{
 "cells": [
  {
   "cell_type": "code",
   "execution_count": 30,
   "id": "539b50ab-3a1d-42e8-9a06-acafc857c1c2",
   "metadata": {},
   "outputs": [],
   "source": [
    "from urllib.request import urlopen\n",
    "from bs4 import BeautifulSoup"
   ]
  },
  {
   "cell_type": "code",
   "execution_count": 139,
   "id": "9603575e-d359-40a0-9ce4-f8846455cd75",
   "metadata": {},
   "outputs": [],
   "source": [
    "anos = [str(x) for x in range(2001,2023)]"
   ]
  },
  {
   "cell_type": "code",
   "execution_count": 140,
   "id": "629f7b34-3349-43b7-bffd-7cfd33154b09",
   "metadata": {},
   "outputs": [],
   "source": [
    "feriados = []\n",
    "for ano in anos: \n",
    "    html = urlopen(f'https://www.anbima.com.br/feriados/fer_nacionais/{ano}.asp')\n",
    "    soup = BeautifulSoup(html, 'html.parser')\n",
    "    table = soup.findAll('table')[2]\n",
    "    rows = table.find_all('tr')\n",
    "    data = []\n",
    "    for row in rows:\n",
    "        cols = row.find_all('td')\n",
    "        cols_text = [ele.text.strip() for ele in cols]\n",
    "        data.append(cols_text)\n",
    "\n",
    "    feriados = feriados + data[2:]"
   ]
  },
  {
   "cell_type": "code",
   "execution_count": 147,
   "id": "3b69c249-222a-406d-8878-9f77de020103",
   "metadata": {},
   "outputs": [
    {
     "data": {
      "text/plain": [
       "[['1/1/01', 'segunda-feira', 'Confraternização Universal'],\n",
       " ['25/12/22', 'domingo', 'Natal']]"
      ]
     },
     "execution_count": 147,
     "metadata": {},
     "output_type": "execute_result"
    }
   ],
   "source": [
    "[feriados[0], feriados[-1]]"
   ]
  },
  {
   "cell_type": "code",
   "execution_count": 131,
   "id": "11cb4ba2-7658-4abd-86d0-45fbbb14c26c",
   "metadata": {},
   "outputs": [],
   "source": [
    "from datetime import datetime\n",
    "def parse_date(d): return datetime.strptime(d, '%d/%m/%y').strftime('%Y-%m-%d')"
   ]
  },
  {
   "cell_type": "code",
   "execution_count": 148,
   "id": "c9037a74-fc45-4292-b6df-aee4aafd28c5",
   "metadata": {},
   "outputs": [
    {
     "data": {
      "text/plain": [
       "[['2001-01-01', 'Confraternização Universal'], ['2022-12-25', 'Natal']]"
      ]
     },
     "execution_count": 148,
     "metadata": {},
     "output_type": "execute_result"
    }
   ],
   "source": [
    "parsed_feriados = [[parse_date(x), z] for [x,y,z] in feriados]\n",
    "\n",
    "[parsed_feriados[0], parsed_feriados[-1]]"
   ]
  },
  {
   "cell_type": "code",
   "execution_count": 149,
   "id": "2b799c69-2114-450b-9ae8-2aaaffb38ae7",
   "metadata": {},
   "outputs": [],
   "source": [
    "import pandas as pd"
   ]
  },
  {
   "cell_type": "code",
   "execution_count": 150,
   "id": "99b54476-ec87-4578-934a-af016d5ae314",
   "metadata": {},
   "outputs": [],
   "source": [
    "df = pd.DataFrame (parsed_feriados, columns = ['data', 'feriado'])\n"
   ]
  },
  {
   "cell_type": "code",
   "execution_count": 151,
   "id": "065a4402-3882-468f-8670-66622e8e43f8",
   "metadata": {},
   "outputs": [
    {
     "data": {
      "text/html": [
       "<div>\n",
       "<style scoped>\n",
       "    .dataframe tbody tr th:only-of-type {\n",
       "        vertical-align: middle;\n",
       "    }\n",
       "\n",
       "    .dataframe tbody tr th {\n",
       "        vertical-align: top;\n",
       "    }\n",
       "\n",
       "    .dataframe thead th {\n",
       "        text-align: right;\n",
       "    }\n",
       "</style>\n",
       "<table border=\"1\" class=\"dataframe\">\n",
       "  <thead>\n",
       "    <tr style=\"text-align: right;\">\n",
       "      <th></th>\n",
       "      <th>data</th>\n",
       "      <th>feriado</th>\n",
       "    </tr>\n",
       "  </thead>\n",
       "  <tbody>\n",
       "    <tr>\n",
       "      <th>0</th>\n",
       "      <td>2001-01-01</td>\n",
       "      <td>Confraternização Universal</td>\n",
       "    </tr>\n",
       "    <tr>\n",
       "      <th>1</th>\n",
       "      <td>2001-02-26</td>\n",
       "      <td>Carnaval</td>\n",
       "    </tr>\n",
       "    <tr>\n",
       "      <th>2</th>\n",
       "      <td>2001-02-27</td>\n",
       "      <td>Carnaval</td>\n",
       "    </tr>\n",
       "    <tr>\n",
       "      <th>3</th>\n",
       "      <td>2001-04-13</td>\n",
       "      <td>Paixão de Cristo</td>\n",
       "    </tr>\n",
       "    <tr>\n",
       "      <th>4</th>\n",
       "      <td>2001-04-21</td>\n",
       "      <td>Tiradentes</td>\n",
       "    </tr>\n",
       "  </tbody>\n",
       "</table>\n",
       "</div>"
      ],
      "text/plain": [
       "         data                     feriado\n",
       "0  2001-01-01  Confraternização Universal\n",
       "1  2001-02-26                    Carnaval\n",
       "2  2001-02-27                    Carnaval\n",
       "3  2001-04-13            Paixão de Cristo\n",
       "4  2001-04-21                  Tiradentes"
      ]
     },
     "execution_count": 151,
     "metadata": {},
     "output_type": "execute_result"
    }
   ],
   "source": [
    "df.head()"
   ]
  },
  {
   "cell_type": "code",
   "execution_count": 154,
   "id": "bc33cf14-8b87-48d6-8c99-b3550df9338e",
   "metadata": {},
   "outputs": [],
   "source": [
    "df.to_csv('feriados_brasil.csv', index=False) "
   ]
  },
  {
   "cell_type": "code",
   "execution_count": 153,
   "id": "6f88ee62-07e6-4c28-8531-28f3cdc74c7c",
   "metadata": {},
   "outputs": [],
   "source": [
    "df.to_feather('feriados_brasil.feather') "
   ]
  },
  {
   "cell_type": "code",
   "execution_count": 155,
   "id": "9e68dc7c-3c25-479b-8d7c-af0382da6fa0",
   "metadata": {},
   "outputs": [],
   "source": [
    "df.to_parquet('feriados_brasil.feather') "
   ]
  },
  {
   "cell_type": "code",
   "execution_count": null,
   "id": "1a4881dd-9444-46a1-bcfa-e469380cc5e1",
   "metadata": {},
   "outputs": [],
   "source": []
  }
 ],
 "metadata": {
  "kernelspec": {
   "display_name": "Python 3 (ipykernel)",
   "language": "python",
   "name": "python3"
  },
  "language_info": {
   "codemirror_mode": {
    "name": "ipython",
    "version": 3
   },
   "file_extension": ".py",
   "mimetype": "text/x-python",
   "name": "python",
   "nbconvert_exporter": "python",
   "pygments_lexer": "ipython3",
   "version": "3.7.0"
  }
 },
 "nbformat": 4,
 "nbformat_minor": 5
}
